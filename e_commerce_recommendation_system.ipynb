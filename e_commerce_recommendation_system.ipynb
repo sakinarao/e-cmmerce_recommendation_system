{
  "nbformat": 4,
  "nbformat_minor": 0,
  "metadata": {
    "colab": {
      "provenance": []
    },
    "kernelspec": {
      "name": "python3",
      "display_name": "Python 3"
    },
    "language_info": {
      "name": "python"
    }
  },
  "cells": [
    {
      "cell_type": "markdown",
      "source": [
        "# Recommendation engine using Amazon Beauty product ratings data to suggest items frequently bought together."
      ],
      "metadata": {
        "id": "-ehpmOaceJAK"
      }
    },
    {
      "cell_type": "code",
      "execution_count": 3,
      "metadata": {
        "colab": {
          "base_uri": "https://localhost:8080/"
        },
        "id": "jeiydGSrYjFS",
        "outputId": "12feaa9c-b920-45bf-d1e7-bc76b58d4433"
      },
      "outputs": [
        {
          "output_type": "stream",
          "name": "stdout",
          "text": [
            "Mounted at /content/drive\n",
            "<class 'pandas.core.frame.DataFrame'>\n",
            "RangeIndex: 2023070 entries, 0 to 2023069\n",
            "Data columns (total 4 columns):\n",
            " #   Column     Dtype  \n",
            "---  ------     -----  \n",
            " 0   UserId     object \n",
            " 1   ProductId  object \n",
            " 2   Rating     float64\n",
            " 3   Timestamp  int64  \n",
            "dtypes: float64(1), int64(1), object(2)\n",
            "memory usage: 61.7+ MB\n"
          ]
        },
        {
          "output_type": "execute_result",
          "data": {
            "text/plain": [
              "(None,\n",
              "            UserId   ProductId  Rating   Timestamp\n",
              " 0  A39HTATAQ9V7YF  0205616461     5.0  1369699200\n",
              " 1  A3JM6GV9MNOF9X  0558925278     3.0  1355443200\n",
              " 2  A1Z513UWSAAO0F  0558925278     5.0  1404691200\n",
              " 3  A1WMRR494NWEWV  0733001998     4.0  1382572800\n",
              " 4  A3IAAVS479H7M7  0737104473     1.0  1274227200)"
            ]
          },
          "metadata": {},
          "execution_count": 3
        }
      ],
      "source": [
        "import pandas as pd\n",
        "from google.colab import drive\n",
        "\n",
        "# Mount your Google Drive\n",
        "drive.mount('/content/drive')\n",
        "\n",
        "# Specify the path to your CSV file\n",
        "file_path = '/content/drive/My Drive/AmazonBeautyRatings/ratings_Beauty.csv'\n",
        "\n",
        "df = pd.read_csv(file_path)\n",
        "\n",
        "# Display basic info and first few rows\n",
        "df.info(), df.head()"
      ]
    },
    {
      "cell_type": "markdown",
      "source": [
        "**Data Cleaning**\n",
        "\n",
        "Remove any duplicates of the user-product pairs"
      ],
      "metadata": {
        "id": "8wPeWAjFaizA"
      }
    },
    {
      "cell_type": "code",
      "source": [
        "\n",
        "# Remove duplicate user-product pairs (keeping the latest rating if duplicates exist)\n",
        "df_sorted = df.sort_values(by='Timestamp', ascending=False)\n",
        "df_cleaned = df_sorted.drop_duplicates(subset=['UserId', 'ProductId'], keep='first')\n",
        "\n",
        "# Check how many unique users and products are left\n",
        "num_users = df_cleaned['UserId'].nunique()\n",
        "num_products = df_cleaned['ProductId'].nunique()\n",
        "df_cleaned.shape, num_users, num_products\n"
      ],
      "metadata": {
        "colab": {
          "base_uri": "https://localhost:8080/"
        },
        "id": "yUq84NR4a2Yl",
        "outputId": "6e817cd1-060b-4472-8e17-a495d41298d1"
      },
      "execution_count": 4,
      "outputs": [
        {
          "output_type": "execute_result",
          "data": {
            "text/plain": [
              "((2023070, 4), 1210271, 249274)"
            ]
          },
          "metadata": {},
          "execution_count": 4
        }
      ]
    },
    {
      "cell_type": "markdown",
      "source": [
        "**Build a co-occurrence matrix**\n"
      ],
      "metadata": {
        "id": "ql6J3s0vbEI-"
      }
    },
    {
      "cell_type": "code",
      "source": [
        "from collections import defaultdict\n",
        "from itertools import combinations\n",
        "import numpy as np\n",
        "import pandas as pd\n",
        "\n",
        "co_occurrence = defaultdict(lambda: defaultdict(int))\n",
        "\n",
        "# Group by UserId and get the list of ProductIds per user\n",
        "user_products = df_cleaned.groupby('UserId')['ProductId'].apply(list)\n",
        "\n",
        "# Count co-occurrences\n",
        "for products in user_products:\n",
        "    unique_products = list(set(products))  # Remove duplicates in one user's basket\n",
        "    for prod1, prod2 in combinations(unique_products, 2):\n",
        "        co_occurrence[prod1][prod2] += 1\n",
        "        co_occurrence[prod2][prod1] += 1  # symmetric\n",
        "\n",
        "# Convert to a more usable structure: dictionary of top co-occurring products\n",
        "recommendations = {}\n",
        "for product, related_products in co_occurrence.items():\n",
        "    sorted_related = sorted(related_products.items(), key=lambda x: x[1], reverse=True)\n",
        "    recommendations[product] = sorted_related[:10]  # top 10 frequently co-bought products\n",
        "\n",
        "# Display a sample product and its recommendations\n",
        "sample_product = next(iter(recommendations))\n",
        "sample_recommendations = recommendations[sample_product]\n",
        "sample_product, sample_recommendations\n"
      ],
      "metadata": {
        "colab": {
          "base_uri": "https://localhost:8080/"
        },
        "id": "aTCVg-vYb3lH",
        "outputId": "d41fde77-59b0-43b7-ea74-b33bee0cf4c8"
      },
      "execution_count": 5,
      "outputs": [
        {
          "output_type": "execute_result",
          "data": {
            "text/plain": [
              "('B0055MYJ0U',\n",
              " [('B006K9OQSC', 39),\n",
              "  ('B004367X70', 17),\n",
              "  ('B004WDV2XA', 16),\n",
              "  ('B009T47YZ2', 8),\n",
              "  ('B008FWTPL0', 8),\n",
              "  ('B00912CL5K', 7),\n",
              "  ('B008RVYJS8', 6),\n",
              "  ('B009CS493U', 5),\n",
              "  ('B0069FDR96', 5),\n",
              "  ('B00CGKJ7QU', 5)])"
            ]
          },
          "metadata": {},
          "execution_count": 5
        }
      ]
    },
    {
      "cell_type": "markdown",
      "source": [
        "**Recommendations**"
      ],
      "metadata": {
        "id": "Fy6sJkuhcyoU"
      }
    },
    {
      "cell_type": "code",
      "source": [
        "# Define a function to get top-N related products for a given product ID\n",
        "def get_recommendations(product_id, top_n=10):\n",
        "    if product_id not in recommendations:\n",
        "        return f\"No recommendations found for Product ID: {product_id}\"\n",
        "    return recommendations[product_id][:top_n]\n",
        "\n"
      ],
      "metadata": {
        "id": "yh6F2pPhc60V"
      },
      "execution_count": 6,
      "outputs": []
    },
    {
      "cell_type": "code",
      "source": [
        "\n",
        "# Test the function with the earlier sample product\n",
        "get_recommendations('B0047SBPSW')\n"
      ],
      "metadata": {
        "colab": {
          "base_uri": "https://localhost:8080/"
        },
        "id": "wq0yJ0OYc66_",
        "outputId": "4a8dbd6c-b5ea-455a-e0e8-de493d74ba97"
      },
      "execution_count": 7,
      "outputs": [
        {
          "output_type": "execute_result",
          "data": {
            "text/plain": [
              "[('B00A51LI1O', 2),\n",
              " ('B0030O3VRW', 2),\n",
              " ('B001C6H6F8', 2),\n",
              " ('B0032O52QS', 1),\n",
              " ('B00B406WDY', 1),\n",
              " ('B003JKA2CE', 1),\n",
              " ('B00EYSNWXG', 1),\n",
              " ('B008J2846I', 1),\n",
              " ('B00DHE53NK', 1),\n",
              " ('B007JT7AIK', 1)]"
            ]
          },
          "metadata": {},
          "execution_count": 7
        }
      ]
    },
    {
      "cell_type": "code",
      "source": [
        "\n",
        "# Test the function with the earlier sample product\n",
        "get_recommendations('A1WMRR494NWEWV')\n"
      ],
      "metadata": {
        "colab": {
          "base_uri": "https://localhost:8080/",
          "height": 35
        },
        "id": "r8Tf0PYidDij",
        "outputId": "9d94b0fb-8f6a-4d10-a8ed-77607e339b0d"
      },
      "execution_count": 8,
      "outputs": [
        {
          "output_type": "execute_result",
          "data": {
            "text/plain": [
              "'No recommendations found for Product ID: A1WMRR494NWEWV'"
            ],
            "application/vnd.google.colaboratory.intrinsic+json": {
              "type": "string"
            }
          },
          "metadata": {},
          "execution_count": 8
        }
      ]
    }
  ]
}